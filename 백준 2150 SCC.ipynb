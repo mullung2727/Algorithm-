{
 "cells": [
  {
   "cell_type": "markdown",
   "metadata": {},
   "source": [
    "```\n",
    "\n",
    "# Strongly Connected Component\n",
    "싸이클이 발생한 경우 하나의 scc가 됨\n",
    "깊이우선탐색 - 스택으로 노드를 쌓아가다가 자기자신이 나오면\n",
    "위에서부터 자기자신까지 하나의 scc가 된다.\n",
    "```"
   ]
  },
  {
   "cell_type": "code",
   "execution_count": 4,
   "metadata": {},
   "outputs": [
    {
     "data": {
      "text/plain": [
       "['7 9\\n',\n",
       " '1 4\\n',\n",
       " '4 5\\n',\n",
       " '5 1\\n',\n",
       " '1 6\\n',\n",
       " '6 7\\n',\n",
       " '2 7\\n',\n",
       " '7 3\\n',\n",
       " '3 7\\n',\n",
       " '7 2']"
      ]
     },
     "execution_count": 4,
     "metadata": {},
     "output_type": "execute_result"
    }
   ],
   "source": [
    "with open('input.txt') as f:\n",
    "    input_txt = f.readlines()\n",
    "input_txt"
   ]
  },
  {
   "cell_type": "code",
   "execution_count": 8,
   "metadata": {},
   "outputs": [
    {
     "data": {
      "text/plain": [
       "[[3, 5], [6], [6], [4], [0], [6], [2, 1]]"
      ]
     },
     "execution_count": 8,
     "metadata": {},
     "output_type": "execute_result"
    }
   ],
   "source": [
    "with open('input.txt') as f:\n",
    "    input_txt = f.readlines()\n",
    "\n",
    "v, e = map(int, input_txt[0].split())\n",
    "ls = [[] for i in range(v)]\n",
    "\n",
    "for i in range(e):\n",
    "    a,b = map(int, input_txt[i+1].split())\n",
    "    ls[a-1].append(b-1)\n",
    "ls"
   ]
  },
  {
   "cell_type": "code",
   "execution_count": 31,
   "metadata": {},
   "outputs": [
    {
     "name": "stdout",
     "output_type": "stream",
     "text": [
      "3\n",
      "1 4 5 -1\n",
      "2 3 7 -1\n",
      "6 -1\n"
     ]
    }
   ],
   "source": [
    "with open('input.txt') as f:\n",
    "    input_txt = f.readlines()\n",
    "MAX = 10001\n",
    "v, e = map(int, input_txt[0].split())\n",
    "a = [[] for i in range(MAX)]\n",
    "\n",
    "for i in range(e):\n",
    "    A,B = map(int, input_txt[i+1].split())\n",
    "    a[A].append(B)\n",
    "\n",
    "\n",
    "\n",
    "d = [0 for i in range(MAX)] # ID관리하는 배열\n",
    "finished = [False for i in range(MAX)]\n",
    "SCC = []\n",
    "stack = []\n",
    "id = 0\n",
    "\n",
    "def dfs(x):\n",
    "    global id\n",
    "    id += 1\n",
    "    d[x] = id\n",
    "    stack.append(x)\n",
    "\n",
    "    parent = id\n",
    "    for y in a[x]:\n",
    "        if d[y] == 0: # id부여가 안된상태\n",
    "            parent = min(parent, dfs(y)) # 재귀적으로 dfs호출-id부여\n",
    "        elif not finished[y]:\n",
    "            parent = min(parent, d[y])\n",
    "    \n",
    "    if parent == d[x]:\n",
    "        scc = []\n",
    "        while True:\n",
    "            t = stack.pop()\n",
    "            scc.append(t)\n",
    "            finished[t] = True\n",
    "            if t == x: break\n",
    "        SCC.append(scc)\n",
    "    return parent\n",
    "\n",
    "for i in range(v):\n",
    "    if(d[i]==0): dfs(i)\n",
    "\n",
    "for i in range(1,len(SCC)):\n",
    "    SCC[i].sort()\n",
    "SCC.sort(key=lambda x: x[0])\n",
    "print(len(SCC)-1)\n",
    "for i in SCC[1:]:\n",
    "    for j in i:\n",
    "        print(j, end=' ')\n",
    "    print(-1)\n"
   ]
  },
  {
   "cell_type": "code",
   "execution_count": 28,
   "metadata": {},
   "outputs": [
    {
     "name": "stdout",
     "output_type": "stream",
     "text": [
      "3\n",
      "1 4 5 -1\n",
      "2 3 7 -1\n",
      "6 -1\n"
     ]
    }
   ],
   "source": [
    "import sys\n",
    "limit_number = 15000\n",
    "sys.setrecursionlimit(limit_number)\n",
    "\n",
    "MAX = 10001\n",
    "v, e = map(int, input().split())\n",
    "a = [[] for i in range(MAX)]\n",
    "\n",
    "for i in range(e):\n",
    "    A,B = map(int, input().split())\n",
    "    a[A].append(B)\n",
    "\n",
    "\n",
    "\n",
    "d = [0 for i in range(MAX)] # ID관리하는 배열\n",
    "finished = [False for i in range(MAX)]\n",
    "SCC = []\n",
    "stack = []\n",
    "id = 0\n",
    "\n",
    "def dfs(x):\n",
    "    global id\n",
    "    id += 1\n",
    "    d[x] = id\n",
    "    stack.append(x)\n",
    "\n",
    "    parent = id\n",
    "    for y in a[x]:\n",
    "        if d[y] == 0: # id부여가 안된상태\n",
    "            parent = min(parent, dfs(y)) # 재귀적으로 dfs호출-id부여\n",
    "        elif not finished[y]:\n",
    "            parent = min(parent, d[y])\n",
    "    \n",
    "    if parent == d[x]:\n",
    "        scc = []\n",
    "        while True:\n",
    "            t = stack.pop()\n",
    "            scc.append(t)\n",
    "            finished[t] = True\n",
    "            if t == x: break\n",
    "        SCC.append(scc)\n",
    "    return parent\n",
    "\n",
    "for i in range(v):\n",
    "    if(d[i]==0): dfs(i)\n",
    "\n",
    "for i in range(1,len(SCC)):\n",
    "    SCC[i].sort()\n",
    "SCC.sort(key=lambda x: x[0])\n",
    "print(len(SCC)-1)\n",
    "for i in SCC[1:]:\n",
    "    for j in i:\n",
    "        print(j, end=' ')\n",
    "    print(-1)\n"
   ]
  },
  {
   "cell_type": "code",
   "execution_count": 23,
   "metadata": {},
   "outputs": [
    {
     "data": {
      "text/plain": [
       "[[1, 4, 5], [2, 3, 7], [6]]"
      ]
     },
     "execution_count": 23,
     "metadata": {},
     "output_type": "execute_result"
    }
   ],
   "source": [
    "for i in range(1,len(SCC)):\n",
    "    SCC[i].sort()\n",
    "SCC.sort(key=lambda x: x[0])\n",
    "SCC[1:]"
   ]
  },
  {
   "cell_type": "code",
   "execution_count": null,
   "metadata": {},
   "outputs": [],
   "source": [
    "SCC[1:].sort"
   ]
  },
  {
   "cell_type": "code",
   "execution_count": null,
   "metadata": {},
   "outputs": [],
   "source": [
    "v, e = map(int, input().split())\n",
    "ls = []\n",
    "for _ in range(e):\n",
    "    ls.append(tuple(map(int, input.split())))"
   ]
  },
  {
   "cell_type": "code",
   "execution_count": null,
   "metadata": {},
   "outputs": [],
   "source": []
  }
 ],
 "metadata": {
  "interpreter": {
   "hash": "73b15312f6d0a3a4f81bb1fef5fd302c9d36df752431494f77e2d8fbed378edf"
  },
  "kernelspec": {
   "display_name": "Python 3.8.11 64-bit ('ds_study': conda)",
   "name": "python3"
  },
  "language_info": {
   "codemirror_mode": {
    "name": "ipython",
    "version": 3
   },
   "file_extension": ".py",
   "mimetype": "text/x-python",
   "name": "python",
   "nbconvert_exporter": "python",
   "pygments_lexer": "ipython3",
   "version": "3.8.11"
  },
  "orig_nbformat": 4
 },
 "nbformat": 4,
 "nbformat_minor": 2
}
