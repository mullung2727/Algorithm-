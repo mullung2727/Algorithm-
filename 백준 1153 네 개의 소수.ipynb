{
 "cells": [
  {
   "cell_type": "markdown",
   "metadata": {},
   "source": [
    "https://www.acmicpc.net/problem/1153"
   ]
  },
  {
   "cell_type": "code",
   "execution_count": 1,
   "metadata": {},
   "outputs": [
    {
     "name": "stdout",
     "output_type": "stream",
     "text": [
      "[2, 3, 5, 7, 11, 13, 17, 19, 23, 29, 31, 37]\n"
     ]
    }
   ],
   "source": [
    "n = 38\n",
    "ls = [True for _ in range(n+1)]\n",
    "prime_ls = []\n",
    "for i in range(2, n+1):\n",
    "    if ls[i] == True:\n",
    "        prime_ls.append(i)\n",
    "        j = i * 2\n",
    "        while j <= n:\n",
    "            ls[j] = False\n",
    "            j += i\n",
    "\n",
    "print(prime_ls)\n"
   ]
  },
  {
   "cell_type": "code",
   "execution_count": null,
   "metadata": {},
   "outputs": [],
   "source": []
  }
 ],
 "metadata": {
  "interpreter": {
   "hash": "73b15312f6d0a3a4f81bb1fef5fd302c9d36df752431494f77e2d8fbed378edf"
  },
  "kernelspec": {
   "display_name": "Python 3.8.11 64-bit ('ds_study': conda)",
   "name": "python3"
  },
  "language_info": {
   "codemirror_mode": {
    "name": "ipython",
    "version": 3
   },
   "file_extension": ".py",
   "mimetype": "text/x-python",
   "name": "python",
   "nbconvert_exporter": "python",
   "pygments_lexer": "ipython3",
   "version": "3.8.11"
  },
  "orig_nbformat": 4
 },
 "nbformat": 4,
 "nbformat_minor": 2
}
