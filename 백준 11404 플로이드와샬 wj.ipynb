{
 "cells": [
  {
   "cell_type": "code",
   "execution_count": null,
   "metadata": {},
   "outputs": [],
   "source": []
  },
  {
   "cell_type": "code",
   "execution_count": 28,
   "metadata": {},
   "outputs": [
    {
     "data": {
      "text/plain": [
       "['5\\n',\n",
       " '14\\n',\n",
       " '1 2 2\\n',\n",
       " '1 3 3\\n',\n",
       " '1 4 1\\n',\n",
       " '1 5 10\\n',\n",
       " '2 4 2\\n',\n",
       " '3 4 1\\n',\n",
       " '3 5 1\\n',\n",
       " '4 5 3\\n',\n",
       " '3 5 10\\n',\n",
       " '3 1 8\\n',\n",
       " '1 4 2\\n',\n",
       " '5 1 7\\n',\n",
       " '3 4 2\\n',\n",
       " '5 2 4']"
      ]
     },
     "execution_count": 28,
     "metadata": {},
     "output_type": "execute_result"
    }
   ],
   "source": [
    "import numpy as np\n",
    "with open(\"input.txt\") as f:\n",
    "    input_txt = f.readlines()\n",
    "input_txt\n",
    "\n"
   ]
  },
  {
   "cell_type": "code",
   "execution_count": 40,
   "metadata": {},
   "outputs": [
    {
     "data": {
      "text/plain": [
       "[[10, 999999, 999999, 999999, 999999],\n",
       " [999999, 999999, 999999, 999999, 999999],\n",
       " [999999, 999999, 999999, 999999, 999999],\n",
       " [999999, 999999, 999999, 999999, 999999],\n",
       " [999999, 999999, 999999, 999999, 999999]]"
      ]
     },
     "execution_count": 40,
     "metadata": {},
     "output_type": "execute_result"
    }
   ],
   "source": [
    "n = int(input_txt[0])\n",
    "m = int(input_txt[1])\n",
    "INF = 9999999\n",
    "cost_arr = []\n",
    "for i in range(n):\n",
    "    a = [999999 for i in range(n)]\n",
    "    cost_arr.append(a)"
   ]
  },
  {
   "cell_type": "code",
   "execution_count": 41,
   "metadata": {},
   "outputs": [
    {
     "name": "stdout",
     "output_type": "stream",
     "text": [
      "999999 1 2 2\n",
      "999999 1 3 3\n",
      "999999 1 4 1\n",
      "999999 1 5 10\n",
      "999999 2 4 2\n",
      "999999 3 4 1\n",
      "999999 3 5 1\n",
      "999999 4 5 3\n",
      "999999 3 1 8\n",
      "999999 5 1 7\n",
      "999999 5 2 4\n"
     ]
    },
    {
     "data": {
      "text/plain": [
       "[[999999, 2, 3, 1, 10],\n",
       " [999999, 999999, 999999, 2, 999999],\n",
       " [8, 999999, 999999, 1, 1],\n",
       " [999999, 999999, 999999, 999999, 3],\n",
       " [7, 4, 999999, 999999, 999999]]"
      ]
     },
     "execution_count": 41,
     "metadata": {},
     "output_type": "execute_result"
    }
   ],
   "source": [
    "n = int(input_txt[0])\n",
    "m = int(input_txt[1])\n",
    "INF = 9999999\n",
    "cost_arr = []\n",
    "for i in range(n):\n",
    "    a = [999999 for i in range(n)]\n",
    "    cost_arr.append(a)\n",
    "    \n",
    "for _ in input_txt[2:]:\n",
    "    a, b, c = map(int, _.split())\n",
    "    if c < cost_arr[a-1][b-1]:\n",
    "        print(cost_arr[a-1][b-1], a,b,c)\n",
    "        cost_arr[a-1][b-1] = c\n",
    "cost_arr"
   ]
  },
  {
   "cell_type": "code",
   "execution_count": 46,
   "metadata": {},
   "outputs": [
    {
     "name": "stdout",
     "output_type": "stream",
     "text": [
      "0 2 3 1 4 \n",
      "12 0 15 2 5 \n",
      "8 5 0 1 1 \n",
      "10 7 13 0 3 \n",
      "7 4 10 6 0 \n"
     ]
    }
   ],
   "source": [
    "n = int(input_txt[0])\n",
    "m = int(input_txt[1])\n",
    "INF = 9999999\n",
    "cost_arr = []\n",
    "for i in range(n):\n",
    "    a = [999999 for i in range(n)]\n",
    "    cost_arr.append(a)\n",
    "    \n",
    "for _ in input_txt[2:]:\n",
    "    a, b, c = map(int, _.split())\n",
    "    if c < cost_arr[a-1][b-1]:\n",
    "        cost_arr[a-1][b-1] = c\n",
    "\n",
    "for i in range(n):\n",
    "    cost_arr[i][i] = 0\n",
    "\n",
    "def floydWarshall(arr):\n",
    "    n = len(arr)\n",
    "    for k in range(n):\n",
    "        # k는 거쳐가는 노드\n",
    "        for i in range(n):\n",
    "            # i는 출발 노드\n",
    "            if arr[i][k] == 0:\n",
    "                continue\n",
    "            for j in range(n):\n",
    "                # j는 도착 노드\n",
    "                if arr[k][j] == 0 or i == j:\n",
    "                    continue\n",
    "                if arr[i][j] > arr[i][k] + arr[k][j]: # 바로가는 길보다 거쳐가는 길의 비용이 작으면 업데이트\n",
    "                    arr[i][j] = arr[i][k] + arr[k][j]\n",
    "    \n",
    "    for i in range(n):\n",
    "        for j in range(n):\n",
    "            if arr[i][j] == 999999999:\n",
    "                arr[i][j] = 0\n",
    "    return arr\n",
    "\n",
    "cost_arr=floydWarshall(cost_arr)\n",
    "for i in range(len(cost_arr)):\n",
    "    for j in range(len(cost_arr)):\n",
    "        print(cost_arr[i][j], end=' ')\n",
    "    print()\n"
   ]
  },
  {
   "cell_type": "code",
   "execution_count": 48,
   "metadata": {},
   "outputs": [
    {
     "name": "stdout",
     "output_type": "stream",
     "text": [
      "0 2 3 1 4 \n",
      "12 0 15 2 5 \n",
      "8 5 0 1 1 \n",
      "10 7 13 0 3 \n",
      "7 4 10 6 0 \n"
     ]
    }
   ],
   "source": [
    "n = int(input())\n",
    "m = int(input())\n",
    "cost_arr = []\n",
    "for i in range(n):\n",
    "    a = [999999999 for i in range(n)]\n",
    "    cost_arr.append(a)\n",
    "    \n",
    "for _ in range(m):\n",
    "    a, b, c = map(int, input().split())\n",
    "    if c < cost_arr[a-1][b-1]:\n",
    "        cost_arr[a-1][b-1] = c\n",
    "\n",
    "for i in range(n):\n",
    "    cost_arr[i][i] = 0\n",
    "\n",
    "def floydWarshall(arr):\n",
    "    n = len(arr)\n",
    "    for k in range(n):\n",
    "        # k는 거쳐가는 노드\n",
    "        for i in range(n):\n",
    "            # i는 출발 노드\n",
    "            if arr[i][k] == 0:\n",
    "                continue\n",
    "            for j in range(n):\n",
    "                # j는 도착 노드\n",
    "                if arr[k][j] == 0 or i == j:\n",
    "                    continue\n",
    "                if arr[i][j] > arr[i][k] + arr[k][j]: # 바로가는 길보다 거쳐가는 길의 비용이 작으면 업데이트\n",
    "                    arr[i][j] = arr[i][k] + arr[k][j]\n",
    "    \n",
    "    for i in range(n):\n",
    "        for j in range(n):\n",
    "            if arr[i][j] == 999999999:\n",
    "                arr[i][j] = 0\n",
    "    return arr\n",
    "\n",
    "cost_arr=floydWarshall(cost_arr)\n",
    "for i in range(len(cost_arr)):\n",
    "    for j in range(len(cost_arr)):\n",
    "        print(cost_arr[i][j], end=' ')\n",
    "    print()\n",
    "\n"
   ]
  },
  {
   "cell_type": "code",
   "execution_count": 44,
   "metadata": {},
   "outputs": [
    {
     "data": {
      "text/plain": [
       "10000000"
      ]
     },
     "execution_count": 44,
     "metadata": {},
     "output_type": "execute_result"
    }
   ],
   "source": [
    "100 * 100000"
   ]
  },
  {
   "cell_type": "code",
   "execution_count": null,
   "metadata": {},
   "outputs": [],
   "source": [
    "999999999"
   ]
  }
 ],
 "metadata": {
  "interpreter": {
   "hash": "73b15312f6d0a3a4f81bb1fef5fd302c9d36df752431494f77e2d8fbed378edf"
  },
  "kernelspec": {
   "display_name": "Python 3.8.11 64-bit ('ds_study': conda)",
   "name": "python3"
  },
  "language_info": {
   "codemirror_mode": {
    "name": "ipython",
    "version": 3
   },
   "file_extension": ".py",
   "mimetype": "text/x-python",
   "name": "python",
   "nbconvert_exporter": "python",
   "pygments_lexer": "ipython3",
   "version": "3.8.11"
  },
  "orig_nbformat": 4
 },
 "nbformat": 4,
 "nbformat_minor": 2
}
