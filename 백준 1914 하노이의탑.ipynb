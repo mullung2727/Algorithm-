{
 "cells": [
  {
   "cell_type": "code",
   "execution_count": 2,
   "metadata": {},
   "outputs": [],
   "source": [
    "n = int(input())"
   ]
  },
  {
   "cell_type": "code",
   "execution_count": 21,
   "metadata": {},
   "outputs": [
    {
     "name": "stdout",
     "output_type": "stream",
     "text": [
      "2097151\n"
     ]
    }
   ],
   "source": [
    "n = 21\n",
    "cnt = 0\n",
    "dic = {i:0 for i in range(1,n+1)}\n",
    "n_even_odd = n % 2 # input이 짝수인지 홀수인지\n",
    "even_odd_ls = [None] + [ i%2 != n_even_odd for i in range(1,n+1)] # 1~n까지 n과 짝홀이 같은지(n은 짝, i는 홀이면 True)\n",
    "result = [] # 결과출력을 위한 리스트, 함수에서 원판을 옮길 때마다 튜플이 추가됨\n",
    "def print_hanoi(num, even_odd):\n",
    "    if even_odd: # n과 num의 짝홀이 다를 때(n은 짝 num은 홀)\n",
    "        if num == 1: # 처음 등장했을 때\n",
    "            print(1,2)\n",
    "        elif num == 2: # 두번째 등장\n",
    "            print(2,3)\n",
    "        else: # 세번째 등장\n",
    "            print(3,1)\n",
    "    else:\n",
    "        if num == 1: # 처음 등장\n",
    "            print(1,3)\n",
    "        elif num == 2: # 두번쨰 등장\n",
    "            print(3,2)\n",
    "        else: # 세번째 등장\n",
    "            print(2,1)\n",
    "        \n",
    "def hanoi(k):\n",
    "    global cnt\n",
    "    cnt += 1 # 일단 한번 더해주고\n",
    "    if k == 1:\n",
    "        dic[k] += 1 # 등장회수를 늘려줌\n",
    "        result.append((dic[k] % 3,even_odd_ls[k])) # 등장횟수, n과 짝홀이 같은지 여부를 리스트에 저장\n",
    "        return None \n",
    "    hanoi(k-1) # k-1개 원판의 하노이 실행(재귀)\n",
    "    dic[k] += 1 # 등장회수를 늘려줌\n",
    "    result.append((dic[k] % 3,even_odd_ls[k])) # 등장횟수, n과 짝홀이 같은지 여부를 리스트에 저장\n",
    "    hanoi(k-1) # k-1개 원판의 하노이 실행(재귀)\n",
    "\n",
    "def hanoi_cnt(k): # 20개 초과시 숫자만 셀 때 사용\n",
    "    if k == 1:\n",
    "        return 1\n",
    "    return hanoi_cnt(k-1)*2 + 1\n",
    "\n",
    "if n <= 20: \n",
    "    hanoi(n)\n",
    "    print(cnt)\n",
    "    for i in range(len(result)):\n",
    "        print_hanoi(*result[i])\n",
    "else:\n",
    "    print(hanoi_cnt(n))\n"
   ]
  },
  {
   "cell_type": "code",
   "execution_count": 22,
   "metadata": {},
   "outputs": [
    {
     "name": "stdout",
     "output_type": "stream",
     "text": [
      "15\n"
     ]
    }
   ],
   "source": [
    "print(hanoi_cnt(4))"
   ]
  },
  {
   "cell_type": "code",
   "execution_count": 9,
   "metadata": {},
   "outputs": [
    {
     "data": {
      "text/plain": [
       "{1: 0, 2: 0, 3: 0, 4: 0}"
      ]
     },
     "execution_count": 9,
     "metadata": {},
     "output_type": "execute_result"
    }
   ],
   "source": [
    "dic"
   ]
  },
  {
   "cell_type": "code",
   "execution_count": 10,
   "metadata": {},
   "outputs": [
    {
     "name": "stdout",
     "output_type": "stream",
     "text": [
      "10\n"
     ]
    }
   ],
   "source": [
    "dic[1] = print(10)"
   ]
  },
  {
   "cell_type": "code",
   "execution_count": 11,
   "metadata": {},
   "outputs": [
    {
     "data": {
      "text/plain": [
       "{1: None, 2: 0, 3: 0, 4: 0}"
      ]
     },
     "execution_count": 11,
     "metadata": {},
     "output_type": "execute_result"
    }
   ],
   "source": [
    "dic"
   ]
  },
  {
   "cell_type": "code",
   "execution_count": null,
   "metadata": {},
   "outputs": [],
   "source": []
  }
 ],
 "metadata": {
  "interpreter": {
   "hash": "73b15312f6d0a3a4f81bb1fef5fd302c9d36df752431494f77e2d8fbed378edf"
  },
  "kernelspec": {
   "display_name": "Python 3.8.11 64-bit ('ds_study': conda)",
   "name": "python3"
  },
  "language_info": {
   "codemirror_mode": {
    "name": "ipython",
    "version": 3
   },
   "file_extension": ".py",
   "mimetype": "text/x-python",
   "name": "python",
   "nbconvert_exporter": "python",
   "pygments_lexer": "ipython3",
   "version": "3.8.11"
  },
  "orig_nbformat": 4
 },
 "nbformat": 4,
 "nbformat_minor": 2
}
