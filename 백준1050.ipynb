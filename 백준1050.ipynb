{
 "cells": [
  {
   "cell_type": "markdown",
   "id": "34b04fa4",
   "metadata": {},
   "source": [
    "https://www.acmicpc.net/problem/1015"
   ]
  },
  {
   "cell_type": "markdown",
   "id": "c5d84bcf",
   "metadata": {},
   "source": [
    "\n",
    "- 3\n",
    "- 2 3 1  120"
   ]
  },
  {
   "cell_type": "code",
   "execution_count": 4,
   "id": "b031a7b3",
   "metadata": {},
   "outputs": [
    {
     "name": "stdout",
     "output_type": "stream",
     "text": [
      "3\n",
      "2 3 1\n",
      "3\n",
      "[2, 3, 1]\n"
     ]
    }
   ],
   "source": [
    "\n",
    "print(n)\n",
    "print(ls)\n",
    "        "
   ]
  },
  {
   "cell_type": "code",
   "execution_count": 36,
   "id": "5d9a1b05",
   "metadata": {},
   "outputs": [
    {
     "name": "stdout",
     "output_type": "stream",
     "text": [
      "4\n",
      "2 3 1 1\n",
      "2 3 0 1 "
     ]
    }
   ],
   "source": [
    "# 선택정렬 - 제일 앞에 가장 작은 수\n",
    "n = int(input())\n",
    "ls = list(map(int, input().split()))\n",
    "dic = {}\n",
    "ls2 = [None for i in range(n)]\n",
    "for i in range(n):\n",
    "    if dic.get(ls[i]) != None:\n",
    "        dic[ls[i]].append(i)\n",
    "    else:\n",
    "        dic[ls[i]] = [i]\n",
    "\n",
    "\n",
    "for i in range(n):\n",
    "    minnum = 1001\n",
    "    for j in range(i, n):\n",
    "        if ls[j] < minnum:\n",
    "            minnum = ls[j]\n",
    "            idx = j\n",
    "    ls[idx] = ls[i]\n",
    "    ls[i] = minnum\n",
    "    if len(dic[minnum]) == 1:\n",
    "        ls2[dic[minnum][0]] = i\n",
    "    else:\n",
    "        ls2[dic[minnum].pop(0)] = i\n",
    "\n",
    "for i in ls2:\n",
    "    print(i, end=' ')\n"
   ]
  },
  {
   "cell_type": "code",
   "execution_count": 59,
   "id": "ff7be29e",
   "metadata": {},
   "outputs": [
    {
     "name": "stdout",
     "output_type": "stream",
     "text": [
      "3\n",
      "2 3 1\n",
      "[1, 2] [2, 0] [3, 1] "
     ]
    }
   ],
   "source": [
    "# 삽입정렬\n",
    "n = int(input())\n",
    "ls = list(map(int, input().split()))\n",
    "ls2 = []\n",
    "for idx, i in enumerate(ls):\n",
    "    ls2.append([i, idx])\n",
    "\n",
    "for i in range(n-1):\n",
    "    j = i\n",
    "    while ls2[j][0] > ls2[j+1][0]:\n",
    "#         ls2[j][1] += 1\n",
    "#         ls2[j+1][1] -= 1\n",
    "        ls2[j], ls2[j+1] = ls2[j+1], ls2[j]\n",
    "        if j == 0:\n",
    "            break\n",
    "        j -= 1\n",
    "\n",
    "for i in ls2:\n",
    "    print(i, end=' ')"
   ]
  },
  {
   "cell_type": "code",
   "execution_count": 42,
   "id": "6eb68894",
   "metadata": {},
   "outputs": [
    {
     "name": "stdout",
     "output_type": "stream",
     "text": [
      "4 2 3 2\n",
      "[[4, 0], [2, 1], [3, 2], [2, 3]]\n"
     ]
    }
   ],
   "source": [
    "ls = map(int, input().split())\n",
    "ls2 = []\n",
    "for idx, i in enumerate(ls):\n",
    "    ls2.append([i, idx])\n",
    "print(ls2)"
   ]
  },
  {
   "cell_type": "code",
   "execution_count": null,
   "id": "63301ff2",
   "metadata": {},
   "outputs": [],
   "source": []
  }
 ],
 "metadata": {
  "kernelspec": {
   "display_name": "Python 3.8.11 64-bit ('ds_study': conda)",
   "language": "python",
   "name": "python3811jvsc74a57bd0a10808f447772974824511a6b5cb5e14477e09133452cf9a8171d160635b28f4"
  },
  "language_info": {
   "codemirror_mode": {
    "name": "ipython",
    "version": 3
   },
   "file_extension": ".py",
   "mimetype": "text/x-python",
   "name": "python",
   "nbconvert_exporter": "python",
   "pygments_lexer": "ipython3",
   "version": "3.8.11"
  }
 },
 "nbformat": 4,
 "nbformat_minor": 5
}
