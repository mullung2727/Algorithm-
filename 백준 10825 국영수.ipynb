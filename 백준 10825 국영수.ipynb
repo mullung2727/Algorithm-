{
 "cells": [
  {
   "cell_type": "markdown",
   "id": "73354f64",
   "metadata": {},
   "source": [
    "https://www.acmicpc.net/problem/10825"
   ]
  },
  {
   "cell_type": "markdown",
   "id": "9f73b399",
   "metadata": {},
   "source": [
    "```\n",
    "국어 점수가 감소하는 순서로\n",
    "국어 점수가 같으면 영어 점수가 증가하는 순서로\n",
    "국어 점수와 영어 점수가 같으면 수학 점수가 감소하는 순서로\n",
    "모든 점수가 같으면 이름이 사전 순으로 증가하는 순서로 (단, 아스키 코드에서 대문자는 소문자보다 작으므로 사전순으로 앞에 온다.)\n",
    "```"
   ]
  },
  {
   "cell_type": "code",
   "execution_count": 7,
   "id": "c306ff61",
   "metadata": {},
   "outputs": [
    {
     "name": "stdout",
     "output_type": "stream",
     "text": [
      "5\n",
      "Junkyu 50 60 100\n",
      "Sangkeun 80 60 50\n",
      "Sunyoung 80 70 100\n",
      "Soong 50 60 90\n",
      "Haebin 50 60 100\n"
     ]
    }
   ],
   "source": [
    "n = int(input())\n",
    "ls = []\n",
    "for i in range(n):\n",
    "    name, kor, eng, mat = input().split()\n",
    "    ls.append([name, int(kor), int(eng), int(mat)])\n"
   ]
  },
  {
   "cell_type": "code",
   "execution_count": 12,
   "id": "8cf08b0c",
   "metadata": {},
   "outputs": [],
   "source": [
    "ls2 = ls.copy()"
   ]
  },
  {
   "cell_type": "code",
   "execution_count": 19,
   "id": "8a84d14b",
   "metadata": {},
   "outputs": [],
   "source": [
    "# ls = [['c', 50, 60, 100], ['e',30,100,20], ['d',30,100,20]]\n",
    "n = int(input())\n",
    "ls = []\n",
    "for i in range(n):\n",
    "    name, kor, eng, mat = input().split()\n",
    "    ls.append([name, int(kor), int(eng), int(mat)])\n",
    "\n",
    "\n",
    "\n",
    "ls2.sort(key = lambda x: x[0], reverse=False)\n",
    "ls2.sort(key = lambda x: x[3], reverse=True)\n",
    "ls2.sort(key = lambda x: x[2], reverse=False)\n",
    "ls2.sort(key = lambda x: x[1], reverse=True)"
   ]
  },
  {
   "cell_type": "code",
   "execution_count": 20,
   "id": "825b7e55",
   "metadata": {},
   "outputs": [
    {
     "name": "stdout",
     "output_type": "stream",
     "text": [
      "Sangkeun\n",
      "Sunyoung\n",
      "Haebin\n",
      "Junkyu\n",
      "Soong\n"
     ]
    }
   ],
   "source": [
    "for i in ls2:\n",
    "    print(i[0])"
   ]
  },
  {
   "cell_type": "code",
   "execution_count": 21,
   "id": "37cd0457",
   "metadata": {},
   "outputs": [
    {
     "data": {
      "text/plain": [
       "[['Sangkeun', 80, 60, 50],\n",
       " ['Sunyoung', 80, 70, 100],\n",
       " ['Haebin', 50, 60, 100],\n",
       " ['Junkyu', 50, 60, 100],\n",
       " ['Soong', 50, 60, 90]]"
      ]
     },
     "execution_count": 21,
     "metadata": {},
     "output_type": "execute_result"
    }
   ],
   "source": [
    "ls2"
   ]
  },
  {
   "cell_type": "code",
   "execution_count": 68,
   "id": "d3333372",
   "metadata": {},
   "outputs": [
    {
     "data": {
      "text/plain": [
       "[['Soong', 50, 60, 90],\n",
       " ['Sangkeun', 80, 60, 50],\n",
       " ['Junkyu', 50, 60, 100],\n",
       " ['Sunyoung', 80, 70, 100],\n",
       " ['Haebin', 50, 60, 100]]"
      ]
     },
     "execution_count": 68,
     "metadata": {},
     "output_type": "execute_result"
    }
   ],
   "source": [
    "data = [['Sangkeun', 80, 60, 50],\n",
    " ['Sunyoung', 80, 70, 100],\n",
    " ['Haebin', 50, 60, 100],\n",
    " ['Junkyu', 50, 60, 100],\n",
    " ['Soong', 50, 60, 90]]\n",
    "data[0], data[1], data[2], data[3], data[4] = data[4], data[0], data[3], data[1], data[2]\n",
    "data"
   ]
  },
  {
   "cell_type": "code",
   "execution_count": 74,
   "id": "61aad4c4",
   "metadata": {},
   "outputs": [],
   "source": [
    "def quickSort(start, end, idx):\n",
    "    global data\n",
    "    if start >= end: return\n",
    "    pivot = start\n",
    "    i = start + 1\n",
    "    j = end\n",
    "\n",
    "    while i <= j:\n",
    "        while (data[i][idx] <= data[pivot][idx] and i <= end):\n",
    "            i += 1\n",
    "            if i == end+1: break\n",
    "#         print(data)\n",
    "#         print(j)\n",
    "        while (data[j][idx] >= data[pivot][idx] and j > start):\n",
    "            j -= 1\n",
    "\n",
    "        if i > j: # 엇갈림\n",
    "            data[pivot], data[j] = data[j], data[pivot]\n",
    "\n",
    "\n",
    "        else:\n",
    "            data[i], data[j] = data[j], data[i]\n",
    "\n",
    "    quickSort(start, j-1, idx)\n",
    "    quickSort(j+1, end, idx)\n",
    "\n",
    "def quickSort_reverse(start, end, idx):\n",
    "    global data\n",
    "    if start >= end: return\n",
    "    pivot = start\n",
    "    i = start + 1\n",
    "    j = end\n",
    "\n",
    "    while i <= j:\n",
    "        while (data[i][idx] >= data[pivot][idx] and i <= end):\n",
    "            i += 1\n",
    "            if i == end+1: break\n",
    "#         print(data)\n",
    "#         print(j)\n",
    "        while (data[j][idx] <= data[pivot][idx] and j > start):\n",
    "            j -= 1\n",
    "\n",
    "        if i > j: # 엇갈림\n",
    "            data[pivot], data[i] = data[i], data[pivot]\n",
    "\n",
    "\n",
    "        else:\n",
    "            data[i], data[j] = data[j], data[i]\n",
    "\n",
    "    quickSort(start, i-1, idx)\n",
    "    quickSort(i+1, end, idx)\n",
    "    \n",
    "quickSort(0, 4, 1)"
   ]
  },
  {
   "cell_type": "code",
   "execution_count": 75,
   "id": "6db69bad",
   "metadata": {},
   "outputs": [
    {
     "data": {
      "text/plain": [
       "[['Haebin', 50, 60, 100],\n",
       " ['Junkyu', 50, 60, 100],\n",
       " ['Soong', 50, 60, 90],\n",
       " ['Sunyoung', 80, 70, 100],\n",
       " ['Sangkeun', 80, 60, 50]]"
      ]
     },
     "execution_count": 75,
     "metadata": {},
     "output_type": "execute_result"
    }
   ],
   "source": [
    "data"
   ]
  },
  {
   "cell_type": "code",
   "execution_count": 82,
   "id": "75776687",
   "metadata": {},
   "outputs": [
    {
     "data": {
      "text/plain": [
       "[['Haebin', 50, 60, 100],\n",
       " ['Junkyu', 50, 60, 100],\n",
       " ['Sangkeun', 80, 60, 50],\n",
       " ['Soong', 50, 60, 90],\n",
       " ['Sunyoung', 80, 70, 100]]"
      ]
     },
     "execution_count": 82,
     "metadata": {},
     "output_type": "execute_result"
    }
   ],
   "source": [
    "quickSort(0, 4, 0)\n",
    "data"
   ]
  },
  {
   "cell_type": "code",
   "execution_count": 83,
   "id": "cfe37d06",
   "metadata": {},
   "outputs": [
    {
     "data": {
      "text/plain": [
       "[['Haebin', 50, 60, 100],\n",
       " ['Sunyoung', 80, 70, 100],\n",
       " ['Junkyu', 50, 60, 100],\n",
       " ['Soong', 50, 60, 90],\n",
       " ['Sangkeun', 80, 60, 50]]"
      ]
     },
     "execution_count": 83,
     "metadata": {},
     "output_type": "execute_result"
    }
   ],
   "source": [
    "quickSort(0, 4, 3)\n",
    "data = data[::-1]\n",
    "data"
   ]
  },
  {
   "cell_type": "code",
   "execution_count": 78,
   "id": "30e52ad5",
   "metadata": {},
   "outputs": [
    {
     "data": {
      "text/plain": [
       "[['Sangkeun', 80, 60, 50],\n",
       " ['Junkyu', 50, 60, 100],\n",
       " ['Soong', 50, 60, 90],\n",
       " ['Haebin', 50, 60, 100],\n",
       " ['Sunyoung', 80, 70, 100]]"
      ]
     },
     "execution_count": 78,
     "metadata": {},
     "output_type": "execute_result"
    }
   ],
   "source": [
    "quickSort(0, 4, 2)\n",
    "data"
   ]
  },
  {
   "cell_type": "code",
   "execution_count": 79,
   "id": "7c1529ad",
   "metadata": {},
   "outputs": [
    {
     "data": {
      "text/plain": [
       "[['Sangkeun', 80, 60, 50],\n",
       " ['Sunyoung', 80, 70, 100],\n",
       " ['Haebin', 50, 60, 100],\n",
       " ['Soong', 50, 60, 90],\n",
       " ['Junkyu', 50, 60, 100]]"
      ]
     },
     "execution_count": 79,
     "metadata": {},
     "output_type": "execute_result"
    }
   ],
   "source": [
    "quickSort(0, 4, 1)\n",
    "data = data[::-1]\n",
    "data"
   ]
  },
  {
   "cell_type": "code",
   "execution_count": 80,
   "id": "c6b40686",
   "metadata": {},
   "outputs": [],
   "source": [
    "quickSort(0, 4, 0)\n",
    "quickSort(0, 4, 3)\n",
    "data = data[::-1]\n",
    "quickSort(0, 4, 2)\n",
    "quickSort(0, 4, 1)\n",
    "data = data[::-1]"
   ]
  },
  {
   "cell_type": "code",
   "execution_count": 81,
   "id": "95f594c9",
   "metadata": {},
   "outputs": [
    {
     "data": {
      "text/plain": [
       "[['Sangkeun', 80, 60, 50],\n",
       " ['Sunyoung', 80, 70, 100],\n",
       " ['Haebin', 50, 60, 100],\n",
       " ['Soong', 50, 60, 90],\n",
       " ['Junkyu', 50, 60, 100]]"
      ]
     },
     "execution_count": 81,
     "metadata": {},
     "output_type": "execute_result"
    }
   ],
   "source": [
    "data"
   ]
  },
  {
   "cell_type": "code",
   "execution_count": 51,
   "id": "59125d48",
   "metadata": {},
   "outputs": [
    {
     "data": {
      "text/plain": [
       "[['Soong', 50, 60, 90],\n",
       " ['Haebin', 50, 60, 100],\n",
       " ['Junkyu', 50, 60, 100],\n",
       " ['Sangkeun', 80, 60, 50],\n",
       " ['Sunyoung', 80, 70, 100]]"
      ]
     },
     "execution_count": 51,
     "metadata": {},
     "output_type": "execute_result"
    }
   ],
   "source": [
    "data[::-1]"
   ]
  },
  {
   "cell_type": "code",
   "execution_count": 58,
   "id": "4c889310",
   "metadata": {},
   "outputs": [
    {
     "name": "stdout",
     "output_type": "stream",
     "text": [
      "[['Haebin', 50, 60, 100], ['Junkyu', 50, 60, 100], ['Sangkeun', 80, 60, 50], ['Soong', 50, 60, 90], ['Sunyoung', 80, 70, 100]]\n",
      "[['Sunyoung', 80, 70, 100], ['Soong', 50, 60, 90], ['Sangkeun', 80, 60, 50], ['Junkyu', 50, 60, 100], ['Haebin', 50, 60, 100]]\n"
     ]
    }
   ],
   "source": [
    "quickSort(0, 4, 0)\n",
    "print(data)\n",
    "data = data[::-1]\n",
    "print(data)"
   ]
  },
  {
   "cell_type": "code",
   "execution_count": 93,
   "id": "a8be045f",
   "metadata": {},
   "outputs": [
    {
     "data": {
      "text/plain": [
       "[['Soong', 50, 60, 90],\n",
       " ['Sangkeun', 80, 60, 50],\n",
       " ['Junkyu', 50, 60, 100],\n",
       " ['Sunyoung', 80, 70, 100],\n",
       " ['Haebin', 50, 60, 100]]"
      ]
     },
     "execution_count": 93,
     "metadata": {},
     "output_type": "execute_result"
    }
   ],
   "source": [
    "data = [['Sangkeun', 80, 60, 50],\n",
    " ['Sunyoung', 80, 70, 100],\n",
    " ['Haebin', 50, 60, 100],\n",
    " ['Junkyu', 50, 60, 100],\n",
    " ['Soong', 50, 60, 90]]\n",
    "data[0], data[1], data[2], data[3], data[4] = data[4], data[0], data[3], data[1], data[2]\n",
    "data"
   ]
  },
  {
   "cell_type": "code",
   "execution_count": 98,
   "id": "c4129b52",
   "metadata": {},
   "outputs": [
    {
     "data": {
      "text/plain": [
       "[None, None, None, None, None]"
      ]
     },
     "execution_count": 98,
     "metadata": {},
     "output_type": "execute_result"
    }
   ],
   "source": [
    "sorted_ls = [None for i in range(len(data))]\n",
    "sorted_ls"
   ]
  },
  {
   "cell_type": "code",
   "execution_count": 102,
   "id": "e6a83d06",
   "metadata": {},
   "outputs": [
    {
     "name": "stdout",
     "output_type": "stream",
     "text": [
      "[1, 2, 3, 4, 5, 6, 7, 8, 9, 10]\n"
     ]
    }
   ],
   "source": [
    "ls = [1, 10, 5, 8, 7, 6, 4, 3, 2, 9]\n",
    "for i in range(len(ls)-1): # 리스트 앞에서부터 끝까지 순회\n",
    "    j = i\n",
    "    while ls[j] > ls[j+1]: # 왼쪽이 오른쪽보다 클 때 까지 계속 스왑\n",
    "        ls[j], ls[j+1] = ls[j+1], ls[j]\n",
    "        j -= 1\n",
    "print(ls)"
   ]
  },
  {
   "cell_type": "code",
   "execution_count": 103,
   "id": "dd585137",
   "metadata": {},
   "outputs": [
    {
     "data": {
      "text/plain": [
       "[['Soong', 50, 60, 90],\n",
       " ['Haebin', 50, 60, 100],\n",
       " ['Junkyu', 50, 60, 100],\n",
       " ['Sangkeun', 80, 60, 50],\n",
       " ['Sunyoung', 80, 70, 100]]"
      ]
     },
     "execution_count": 103,
     "metadata": {},
     "output_type": "execute_result"
    }
   ],
   "source": [
    "ls = data.copy()\n",
    "ls"
   ]
  },
  {
   "cell_type": "code",
   "execution_count": 111,
   "id": "222fa607",
   "metadata": {},
   "outputs": [
    {
     "data": {
      "text/plain": [
       "[['Haebin', 50, 60, 100],\n",
       " ['Sunyoung', 80, 70, 100],\n",
       " ['Soong', 50, 60, 90],\n",
       " ['Junkyu', 50, 60, 100],\n",
       " ['Sangkeun', 80, 60, 50]]"
      ]
     },
     "execution_count": 111,
     "metadata": {},
     "output_type": "execute_result"
    }
   ],
   "source": [
    "ls"
   ]
  },
  {
   "cell_type": "code",
   "execution_count": 116,
   "id": "4e7778d7",
   "metadata": {},
   "outputs": [],
   "source": [
    "def insert_sort(idx):\n",
    "    for i in range(len(ls)-1): # 리스트 앞에서부터 끝까지 순회\n",
    "        j = i\n",
    "        while ls[j][idx] > ls[j+1][idx] and j > -1: # 왼쪽이 오른쪽보다 클 때 까지 계속 스왑\n",
    "            ls[j], ls[j+1] = ls[j+1], ls[j]\n",
    "            j -= 1\n",
    "            print(j, end= ' ')\n"
   ]
  },
  {
   "cell_type": "code",
   "execution_count": 117,
   "id": "d2f009e3",
   "metadata": {},
   "outputs": [
    {
     "name": "stdout",
     "output_type": "stream",
     "text": [
      "0 2 1 0 0 -1 1 0 -1 0 1 2 "
     ]
    },
    {
     "data": {
      "text/plain": [
       "[['Sunyoung', 80, 70, 100],\n",
       " ['Sangkeun', 80, 60, 50],\n",
       " ['Soong', 50, 60, 90],\n",
       " ['Haebin', 50, 60, 100],\n",
       " ['Junkyu', 50, 60, 100]]"
      ]
     },
     "execution_count": 117,
     "metadata": {},
     "output_type": "execute_result"
    }
   ],
   "source": [
    "insert_sort(0)\n",
    "insert_sort(3)\n",
    "ls = ls[::-1]\n",
    "insert_sort(2)\n",
    "insert_sort(1)\n",
    "ls = ls[::-1]\n",
    "ls"
   ]
  },
  {
   "cell_type": "code",
   "execution_count": 118,
   "id": "e81bc99d",
   "metadata": {},
   "outputs": [
    {
     "name": "stdout",
     "output_type": "stream",
     "text": [
      "-1 0 1 0 -1 2 1 0 "
     ]
    }
   ],
   "source": [
    "insert_sort(0)"
   ]
  },
  {
   "cell_type": "code",
   "execution_count": 119,
   "id": "b1e02d71",
   "metadata": {},
   "outputs": [
    {
     "data": {
      "text/plain": [
       "[['Haebin', 50, 60, 100],\n",
       " ['Junkyu', 50, 60, 100],\n",
       " ['Sangkeun', 80, 60, 50],\n",
       " ['Soong', 50, 60, 90],\n",
       " ['Sunyoung', 80, 70, 100]]"
      ]
     },
     "execution_count": 119,
     "metadata": {},
     "output_type": "execute_result"
    }
   ],
   "source": [
    "ls"
   ]
  },
  {
   "cell_type": "code",
   "execution_count": null,
   "id": "77769cfd",
   "metadata": {},
   "outputs": [],
   "source": []
  }
 ],
 "metadata": {
  "kernelspec": {
   "display_name": "Python 3.8.11 64-bit ('ds_study': conda)",
   "language": "python",
   "name": "python3811jvsc74a57bd0a10808f447772974824511a6b5cb5e14477e09133452cf9a8171d160635b28f4"
  },
  "language_info": {
   "codemirror_mode": {
    "name": "ipython",
    "version": 3
   },
   "file_extension": ".py",
   "mimetype": "text/x-python",
   "name": "python",
   "nbconvert_exporter": "python",
   "pygments_lexer": "ipython3",
   "version": "3.8.11"
  }
 },
 "nbformat": 4,
 "nbformat_minor": 5
}
