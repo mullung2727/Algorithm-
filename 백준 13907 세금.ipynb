{
 "cells": [
  {
   "cell_type": "code",
   "execution_count": 30,
   "metadata": {},
   "outputs": [
    {
     "data": {
      "text/plain": [
       "{1: [(3, 5, 0), (2, 1, 0)], 2: [(3, 2, 0)], 3: []}"
      ]
     },
     "execution_count": 30,
     "metadata": {},
     "output_type": "execute_result"
    }
   ],
   "source": [
    "import sys\n",
    "\n",
    "sys.stdin = open('input.txt')\n",
    "input = sys.stdin.readline \n",
    "\n",
    "n, m, k = map(int,input().split())\n",
    "s, d = map(int, input().split())\n",
    "\n",
    "INF = 10000\n",
    "dic = {i+1:[] for i in range(n)}\n",
    "for i in range(m):\n",
    "    a,b,w = map(int,input().split())\n",
    "    dic[a].append((b,w,0)) \n",
    "\n",
    "add_tax = []\n",
    "for i in range(k):\n",
    "    add_tax.append(int(input()))\n",
    "\n",
    "dic\n"
   ]
  },
  {
   "cell_type": "code",
   "execution_count": null,
   "metadata": {},
   "outputs": [],
   "source": [
    "ways = []\n",
    "def dfs(start, end, cost, cnt):\n",
    "    nodes = dic[start]\n",
    "    for i in nodes:\n",
    "        if i[0] == end:\n",
    "            i[0]\n",
    "            ways.append[i]\n",
    "        else:\n",
    "            dfs(i)"
   ]
  }
 ],
 "metadata": {
  "interpreter": {
   "hash": "73b15312f6d0a3a4f81bb1fef5fd302c9d36df752431494f77e2d8fbed378edf"
  },
  "kernelspec": {
   "display_name": "Python 3.8.11 64-bit ('ds_study': conda)",
   "name": "python3"
  },
  "language_info": {
   "codemirror_mode": {
    "name": "ipython",
    "version": 3
   },
   "file_extension": ".py",
   "mimetype": "text/x-python",
   "name": "python",
   "nbconvert_exporter": "python",
   "pygments_lexer": "ipython3",
   "version": "3.8.11"
  },
  "orig_nbformat": 4
 },
 "nbformat": 4,
 "nbformat_minor": 2
}
