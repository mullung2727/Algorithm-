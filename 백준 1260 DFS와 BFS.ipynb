{
 "cells": [
  {
   "cell_type": "code",
   "execution_count": 22,
   "id": "d776a218",
   "metadata": {},
   "outputs": [
    {
     "name": "stdout",
     "output_type": "stream",
     "text": [
      "5 5 3\n",
      "5 4\n",
      "5 2\n",
      "1 2 \n",
      "3 5\n",
      "3 1\n",
      "3 1 2 5 4 \n",
      "3 1 5 2 4 "
     ]
    }
   ],
   "source": [
    "ls = list(map(int, input().split()))\n",
    "n = ls[0]\n",
    "m = ls[1]\n",
    "v = ls[2]\n",
    "\n",
    "node = []\n",
    "for i in range(m):\n",
    "    node.append(list(map(int, input().split())))\n",
    "\n",
    "graph = {}\n",
    "for i in range(1,n+1):\n",
    "    graph[i] = []\n",
    "\n",
    "for i,j in node:\n",
    "    graph[i].append(j)\n",
    "    graph[j].append(i)\n",
    "\n",
    "def dfs(graph, start_node):\n",
    "    for i in graph.keys():\n",
    "        graph[i].sort(reverse = True)\n",
    "    visited, need_visit = list(), list()\n",
    "    need_visit.append(start_node)\n",
    "    \n",
    "    while need_visit:\n",
    "        node = need_visit.pop()\n",
    "        if node not in visited:\n",
    "            visited.append(node)\n",
    "            need_visit.extend(graph.get(node))\n",
    "    \n",
    "    return visited\n",
    "\n",
    "def bfs(graph, start_node):\n",
    "    for i in graph.keys():\n",
    "        graph[i].sort()\n",
    "    visited = list()\n",
    "    need_visit = list()\n",
    "    \n",
    "    need_visit.append(start_node)\n",
    "    \n",
    "    while need_visit:\n",
    "        node = need_visit.pop(0)\n",
    "        if node not in visited:\n",
    "            visited.append(node)\n",
    "            need_visit.extend(graph.get(node))\n",
    "    \n",
    "    return visited\n",
    "\n",
    "\n",
    "for i in dfs(graph, v):\n",
    "    print(i, end=' ')\n",
    "print()\n",
    "\n",
    "for i in bfs(graph, v):\n",
    "    print(i, end= ' ')"
   ]
  },
  {
   "cell_type": "code",
   "execution_count": 6,
   "id": "5cfcf13e",
   "metadata": {},
   "outputs": [],
   "source": [
    "graph = {}"
   ]
  },
  {
   "cell_type": "code",
   "execution_count": 11,
   "id": "3b3aa2ee",
   "metadata": {},
   "outputs": [
    {
     "data": {
      "text/plain": [
       "True"
      ]
     },
     "execution_count": 11,
     "metadata": {},
     "output_type": "execute_result"
    }
   ],
   "source": [
    "graph.get(10) == None"
   ]
  },
  {
   "cell_type": "code",
   "execution_count": 16,
   "id": "73bc9535",
   "metadata": {},
   "outputs": [],
   "source": [
    "for i in []:\n",
    "    print(i)"
   ]
  },
  {
   "cell_type": "code",
   "execution_count": 17,
   "id": "3ac17a2f",
   "metadata": {},
   "outputs": [],
   "source": [
    "a = []\n",
    "b = []\n",
    "a.extend(b)"
   ]
  },
  {
   "cell_type": "code",
   "execution_count": 18,
   "id": "b9910e63",
   "metadata": {},
   "outputs": [
    {
     "data": {
      "text/plain": [
       "[]"
      ]
     },
     "execution_count": 18,
     "metadata": {},
     "output_type": "execute_result"
    }
   ],
   "source": [
    "a"
   ]
  },
  {
   "cell_type": "code",
   "execution_count": null,
   "id": "d637c665",
   "metadata": {},
   "outputs": [],
   "source": []
  }
 ],
 "metadata": {
  "interpreter": {
   "hash": "73b15312f6d0a3a4f81bb1fef5fd302c9d36df752431494f77e2d8fbed378edf"
  },
  "kernelspec": {
   "display_name": "Python 3.8.11 64-bit ('ds_study': conda)",
   "name": "python3"
  },
  "language_info": {
   "codemirror_mode": {
    "name": "ipython",
    "version": 3
   },
   "file_extension": ".py",
   "mimetype": "text/x-python",
   "name": "python",
   "nbconvert_exporter": "python",
   "pygments_lexer": "ipython3",
   "version": "3.8.11"
  }
 },
 "nbformat": 4,
 "nbformat_minor": 5
}
