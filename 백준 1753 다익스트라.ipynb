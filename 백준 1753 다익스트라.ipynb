{
 "cells": [
  {
   "cell_type": "markdown",
   "metadata": {},
   "source": [
    "방향그래프가 주어지면 주어진 시작점에서 다른 모든 정점으로의 최단 경로를 구하는 프로그램을 작성하시오. 단, 모든 간선의 가중치는 10 이하의 자연수이다."
   ]
  },
  {
   "cell_type": "code",
   "execution_count": 82,
   "metadata": {},
   "outputs": [],
   "source": [
    "v, e = map(int, input().split())\n",
    "start = int(input())\n",
    "ls = [[] for _ in range(v+1)]\n",
    "for _ in range(1,e+1):\n",
    "    u, v, w = map(int, input().split())\n",
    "    ls[u].append((w,v))\n"
   ]
  },
  {
   "cell_type": "code",
   "execution_count": 83,
   "metadata": {},
   "outputs": [
    {
     "data": {
      "text/plain": [
       "([[], [(2, 2), (3, 3)], [(4, 3), (5, 4)], [(6, 4)], [], [(1, 1)]], 1)"
      ]
     },
     "execution_count": 83,
     "metadata": {},
     "output_type": "execute_result"
    }
   ],
   "source": [
    "ls, start"
   ]
  },
  {
   "cell_type": "code",
   "execution_count": 84,
   "metadata": {},
   "outputs": [],
   "source": [
    "INF = 100\n",
    "cost = [None] +[INF for i in range(v)]"
   ]
  },
  {
   "cell_type": "code",
   "execution_count": 88,
   "metadata": {},
   "outputs": [],
   "source": [
    "from queue import PriorityQueue # 가장 작은 값을 먼저 제거\n",
    "cost = [None] +[INF for i in range(v)]\n",
    "cost[start] = 0\n",
    "def dijkstra(start, cost, line_ls):\n",
    "    \n",
    "    # 시작점의 비용은 0인 pq를 생성\n",
    "    pq = PriorityQueue()\n",
    "    pq.put((0,start))\n",
    "\n",
    "    # 시작점에서 연결된 노드부터 while문으로 비용을 업데이트, 노드에 연결된 간선은 priority queue에 넣는다\n",
    "    # queue에서 하나씩 빼면서 노드와 연결된 비용정보를 업데이트, \n",
    "    while not pq.empty():\n",
    "    \n",
    "        dist, node = pq.get()\n",
    "        dist *= -1\n",
    "\n",
    "        # 불러온 큐의 비용과 최소비용 비교, 최소비용이 더 작으면 패스\n",
    "        if cost[node] < dist: \n",
    "            print(dist)\n",
    "            continue\n",
    "        # 해당 노드와 연결된 노드의 정보를 for문으로 불러옴\n",
    "        #   기존 길이보다 짧으면 \n",
    "        for i in line_ls[node]:\n",
    "            next_node = i[1]\n",
    "            next_dist = i[0] + dist # 원래 거리 + 추가된 거리\n",
    "            print(next_node)\n",
    "            if cost[next_node] > next_dist:\n",
    "                cost[next_node] = next_dist\n",
    "                pq.put((-next_dist, next_node)) # 우회하는게 더 저렴하면 큐에 추가\n",
    "    return cost\n",
    "\n",
    "    "
   ]
  },
  {
   "cell_type": "code",
   "execution_count": 89,
   "metadata": {},
   "outputs": [
    {
     "name": "stdout",
     "output_type": "stream",
     "text": [
      "2\n",
      "3\n",
      "4\n",
      "3\n",
      "4\n"
     ]
    },
    {
     "data": {
      "text/plain": [
       "[None, 0, 2, 3, 7]"
      ]
     },
     "execution_count": 89,
     "metadata": {},
     "output_type": "execute_result"
    }
   ],
   "source": [
    "cost = dijkstra(start, cost, ls)\n",
    "cost"
   ]
  },
  {
   "cell_type": "code",
   "execution_count": 39,
   "metadata": {},
   "outputs": [
    {
     "data": {
      "text/plain": [
       "[0, 5]"
      ]
     },
     "execution_count": 39,
     "metadata": {},
     "output_type": "execute_result"
    }
   ],
   "source": [
    "from queue import PriorityQueue # 가장 작은 값을 먼저 제거\n",
    "\n",
    "a = PriorityQueue()\n",
    "a.put([1,2])\n",
    "a.put([2,1])\n",
    "a.put([0,5])\n",
    "b = a.get()\n",
    "b"
   ]
  },
  {
   "cell_type": "code",
   "execution_count": 29,
   "metadata": {},
   "outputs": [
    {
     "data": {
      "text/plain": [
       "True"
      ]
     },
     "execution_count": 29,
     "metadata": {},
     "output_type": "execute_result"
    }
   ],
   "source": [
    "not a.empty()"
   ]
  },
  {
   "cell_type": "code",
   "execution_count": 31,
   "metadata": {},
   "outputs": [
    {
     "data": {
      "text/plain": [
       "0.5625"
      ]
     },
     "execution_count": 31,
     "metadata": {},
     "output_type": "execute_result"
    }
   ],
   "source": [
    "15*0.075*0.5"
   ]
  },
  {
   "cell_type": "code",
   "execution_count": 32,
   "metadata": {},
   "outputs": [
    {
     "data": {
      "text/plain": [
       "4.5"
      ]
     },
     "execution_count": 32,
     "metadata": {},
     "output_type": "execute_result"
    }
   ],
   "source": [
    "20.25 **0.5"
   ]
  },
  {
   "cell_type": "code",
   "execution_count": 33,
   "metadata": {},
   "outputs": [
    {
     "data": {
      "text/plain": [
       "-2.0"
      ]
     },
     "execution_count": 33,
     "metadata": {},
     "output_type": "execute_result"
    }
   ],
   "source": [
    "(0.3-6.3)/3"
   ]
  },
  {
   "cell_type": "code",
   "execution_count": null,
   "metadata": {},
   "outputs": [],
   "source": []
  }
 ],
 "metadata": {
  "interpreter": {
   "hash": "73b15312f6d0a3a4f81bb1fef5fd302c9d36df752431494f77e2d8fbed378edf"
  },
  "kernelspec": {
   "display_name": "Python 3.8.11 64-bit ('ds_study': conda)",
   "name": "python3"
  },
  "language_info": {
   "codemirror_mode": {
    "name": "ipython",
    "version": 3
   },
   "file_extension": ".py",
   "mimetype": "text/x-python",
   "name": "python",
   "nbconvert_exporter": "python",
   "pygments_lexer": "ipython3",
   "version": "3.8.11"
  },
  "orig_nbformat": 4
 },
 "nbformat": 4,
 "nbformat_minor": 2
}
