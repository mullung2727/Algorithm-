{
 "cells": [
  {
   "cell_type": "code",
   "execution_count": 4,
   "id": "b569c61b",
   "metadata": {},
   "outputs": [
    {
     "name": "stdout",
     "output_type": "stream",
     "text": [
      "5\n",
      "4 1 5 2 3\n",
      "5\n",
      "1 3 7 9 5\n"
     ]
    }
   ],
   "source": [
    "n = int(input())\n",
    "ls = list(map(int, input().split()))\n",
    "\n",
    "m = int(input())\n",
    "m_ls = list(map(int, input().split()))\n",
    "\n",
    "    \n",
    "    "
   ]
  },
  {
   "cell_type": "code",
   "execution_count": 7,
   "id": "b1919fe2",
   "metadata": {},
   "outputs": [
    {
     "name": "stdout",
     "output_type": "stream",
     "text": [
      "1\n",
      "1\n",
      "0\n",
      "0\n",
      "1\n"
     ]
    }
   ],
   "source": [
    "ls.sort()\n",
    "\n",
    "def find_func(num, ls):\n",
    "    start = 0\n",
    "    end = len(ls)-1\n",
    "    mid = (start + end) // 2\n",
    "    mid_val = ls[mid]\n",
    "\n",
    "    while k >= ls[start] and k <= ls[end]:\n",
    "        if k > mid_val:\n",
    "            start = mid+1\n",
    "            mid = (start+end)//2\n",
    "            mid_val = ls[mid]\n",
    "        elif k < mid_val:\n",
    "            end = mid-1\n",
    "            mid = (start+end)//2\n",
    "            mid_val = ls[mid]\n",
    "        else:\n",
    "            return 1\n",
    "    return 0    \n",
    "for k in m_ls:\n",
    "    print(find_func(k, ls))"
   ]
  },
  {
   "cell_type": "code",
   "execution_count": null,
   "id": "2f9a10eb",
   "metadata": {},
   "outputs": [],
   "source": [
    "class Node:\n",
    "    def __init__(self, v):\n",
    "        self.v = v\n",
    "        self.left = None\n",
    "        self.right = None\n",
    "\n",
    "node_ls = []\n"
   ]
  }
 ],
 "metadata": {
  "kernelspec": {
   "display_name": "Python 3.8.11 64-bit ('ds_study': conda)",
   "language": "python",
   "name": "python3811jvsc74a57bd0a10808f447772974824511a6b5cb5e14477e09133452cf9a8171d160635b28f4"
  },
  "language_info": {
   "codemirror_mode": {
    "name": "ipython",
    "version": 3
   },
   "file_extension": ".py",
   "mimetype": "text/x-python",
   "name": "python",
   "nbconvert_exporter": "python",
   "pygments_lexer": "ipython3",
   "version": "3.8.11"
  }
 },
 "nbformat": 4,
 "nbformat_minor": 5
}
