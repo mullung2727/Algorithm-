{
 "cells": [
  {
   "cell_type": "code",
   "execution_count": 17,
   "id": "7469977c",
   "metadata": {},
   "outputs": [
    {
     "name": "stdout",
     "output_type": "stream",
     "text": [
      "3\n",
      "4\n",
      "7\n",
      "10\n"
     ]
    }
   ],
   "source": [
    "n = int(input())\n",
    "n_ls = []\n",
    "for i in range(n):\n",
    "    n_ls.append(int(input()))\n",
    "    "
   ]
  },
  {
   "cell_type": "code",
   "execution_count": 20,
   "id": "d80f22dc",
   "metadata": {},
   "outputs": [
    {
     "data": {
      "text/plain": [
       "[0, 0, 0, 0, 0, 0, 0, 0, 0, 0, 0]"
      ]
     },
     "execution_count": 20,
     "metadata": {},
     "output_type": "execute_result"
    }
   ],
   "source": [
    "ls"
   ]
  },
  {
   "cell_type": "code",
   "execution_count": 37,
   "id": "9521ef53",
   "metadata": {},
   "outputs": [
    {
     "name": "stdout",
     "output_type": "stream",
     "text": [
      "7\n",
      "44\n",
      "274\n"
     ]
    }
   ],
   "source": [
    "save = [0 for i in range(11)]\n",
    "\n",
    "def func(k):\n",
    "#     print('kkk',k)\n",
    "    if k == 1:\n",
    "        save[k] = 1\n",
    "        return 1\n",
    "    if k == 2: \n",
    "        save[k] = 2\n",
    "        return 2\n",
    "    if k == 3:\n",
    "        save[k] = 4\n",
    "        return 4\n",
    "    if save[k] != 0: \n",
    "        return save[k]\n",
    "    save[k] = func(k-1) + func(k-2) + func(k-3)\n",
    "    return save[k]\n",
    "\n",
    "for i in n_ls:\n",
    "    print(func(i))\n",
    "    "
   ]
  },
  {
   "cell_type": "code",
   "execution_count": null,
   "id": "38723ec0",
   "metadata": {},
   "outputs": [],
   "source": [
    "1\n",
    "1+1 2\n",
    "1+1+1, 1+2, 2+1, 3"
   ]
  },
  {
   "cell_type": "code",
   "execution_count": 38,
   "id": "60302d9f",
   "metadata": {},
   "outputs": [
    {
     "data": {
      "text/plain": [
       "[0, 1, 2, 4, 7, 13, 24, 44, 81, 149, 274]"
      ]
     },
     "execution_count": 38,
     "metadata": {},
     "output_type": "execute_result"
    }
   ],
   "source": [
    "save"
   ]
  },
  {
   "cell_type": "code",
   "execution_count": null,
   "id": "2b388843",
   "metadata": {},
   "outputs": [],
   "source": []
  }
 ],
 "metadata": {
  "kernelspec": {
   "display_name": "Python 3.8.11 64-bit ('ds_study': conda)",
   "language": "python",
   "name": "python3811jvsc74a57bd0a10808f447772974824511a6b5cb5e14477e09133452cf9a8171d160635b28f4"
  },
  "language_info": {
   "codemirror_mode": {
    "name": "ipython",
    "version": 3
   },
   "file_extension": ".py",
   "mimetype": "text/x-python",
   "name": "python",
   "nbconvert_exporter": "python",
   "pygments_lexer": "ipython3",
   "version": "3.8.11"
  }
 },
 "nbformat": 4,
 "nbformat_minor": 5
}
