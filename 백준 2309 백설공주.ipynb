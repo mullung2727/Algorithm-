{
 "cells": [
  {
   "cell_type": "markdown",
   "metadata": {},
   "source": [
    "```\n",
    "https://www.acmicpc.net/problem/2309\n",
    "\n",
    "9개 중에 2개 선택해서 제외 - 9C2의 경우의 수 - 36개밖에 안된다...\n",
    "그냥 2중 for문으로 해결 가능\n",
    "\n",
    "시간 단축\n",
    "계획\n",
    "1. 정렬 후 제일 작은 값, 제일 큰값 빼고 7개 더한다.\n",
    "2 하나만 바꿔도 되는 경우\n",
    "    2-1. 1의 결과 100보다 작으면 제일 작은 값을 넣고 하나씩 바꿔본다.\n",
    "    2-2. 1의 결과가 100보다 크면 제일 큰 값과 다른 7개의 값을 하나씩 바꿔본다.\n",
    "3. 2번에서 100이 안나오면 제일 큰값, 작은값은 무조건 포함 - 결과리스트에 넣어줌\n",
    "    그리고 100에서 제일 큰값, 작은값 뺀 후 2번작업 수행 (재귀적으로)\n",
    "```"
   ]
  },
  {
   "cell_type": "code",
   "execution_count": 23,
   "metadata": {},
   "outputs": [
    {
     "name": "stdout",
     "output_type": "stream",
     "text": [
      "7\n",
      "8\n",
      "10\n",
      "13\n",
      "19\n",
      "20\n",
      "23\n"
     ]
    }
   ],
   "source": [
    "# 2중 포문작업\n",
    "import sys\n",
    "\n",
    "sys.stdin = open('input.txt')\n",
    "input = sys.stdin.readline \n",
    "\n",
    "a = [int(input()) for i in range(9)]\n",
    "a.sort()\n",
    "total = sum(a)\n",
    "def func():\n",
    "    for i in range(8):\n",
    "        for j in range(i+1,9):\n",
    "            if total - a[i] - a[j] == 100:\n",
    "                return i, j\n",
    "\n",
    "i,j = func()\n",
    "for c in range(9):\n",
    "    if c == i or c == j:\n",
    "        continue\n",
    "    print(a[c])"
   ]
  },
  {
   "cell_type": "code",
   "execution_count": 48,
   "metadata": {},
   "outputs": [
    {
     "name": "stdout",
     "output_type": "stream",
     "text": [
      "7\n",
      "8\n",
      "10\n",
      "13\n",
      "19\n",
      "20\n",
      "23\n"
     ]
    }
   ],
   "source": [
    "# 시간단축 - 똑같네..\n",
    "import sys\n",
    "\n",
    "sys.stdin = open('input.txt')\n",
    "input = sys.stdin.readline \n",
    "\n",
    "a = [int(input()) for i in range(9)]\n",
    "a.sort()\n",
    "\n",
    "def func(target, ls):\n",
    "\n",
    "    if len(ls) == 3:\n",
    "        for i in ls:\n",
    "            if i == target:\n",
    "                return [i]\n",
    "    result = []\n",
    "    mid = ls[1:-1]\n",
    "    total = sum(mid)\n",
    "\n",
    "    if total > target:\n",
    "        total += ls[0]\n",
    "        for i in mid:\n",
    "            if total - i == target:\n",
    "                mid.remove(i)\n",
    "                result.append(ls[0])\n",
    "                result.extend(mid)\n",
    "\n",
    "                return result\n",
    "            else:\n",
    "                continue\n",
    "        min_val = ls.pop(0)\n",
    "        max_val = ls.pop(-1)\n",
    "        result.extend([min_val, max_val])\n",
    "        target -= (min_val + max_val)\n",
    "\n",
    "        return result + func(target, ls)\n",
    "    elif total < target:\n",
    "        total += ls[-1]\n",
    "        for i in mid:\n",
    "            if total - i == target:\n",
    "                mid.remove(i)\n",
    "                result.append(ls[-1])\n",
    "                result.extend(mid)\n",
    "\n",
    "                return result\n",
    "            else:\n",
    "                continue\n",
    "        min_val = ls.pop(0)\n",
    "        max_val = ls.pop(-1)\n",
    "        result.extend([min_val, max_val])\n",
    "        target -= (min_val + max_val)\n",
    "\n",
    "        return result + func(target, ls)\n",
    "    elif total == target: \n",
    "        result.extend(mid)\n",
    "\n",
    "        return result\n",
    "\n",
    "result = func(100, a)\n",
    "result.sort()\n",
    "for i in result:\n",
    "    print(i)\n"
   ]
  },
  {
   "cell_type": "code",
   "execution_count": 34,
   "metadata": {},
   "outputs": [],
   "source": [
    "result = []"
   ]
  },
  {
   "cell_type": "code",
   "execution_count": 19,
   "metadata": {},
   "outputs": [
    {
     "data": {
      "text/plain": [
       "[20, 7, 23, 19, 10, 15, 25, 8, 13]"
      ]
     },
     "execution_count": 19,
     "metadata": {},
     "output_type": "execute_result"
    }
   ],
   "source": [
    "a"
   ]
  },
  {
   "cell_type": "code",
   "execution_count": null,
   "metadata": {},
   "outputs": [],
   "source": []
  }
 ],
 "metadata": {
  "interpreter": {
   "hash": "73b15312f6d0a3a4f81bb1fef5fd302c9d36df752431494f77e2d8fbed378edf"
  },
  "kernelspec": {
   "display_name": "Python 3.8.11 64-bit ('ds_study': conda)",
   "name": "python3"
  },
  "language_info": {
   "codemirror_mode": {
    "name": "ipython",
    "version": 3
   },
   "file_extension": ".py",
   "mimetype": "text/x-python",
   "name": "python",
   "nbconvert_exporter": "python",
   "pygments_lexer": "ipython3",
   "version": "3.8.11"
  },
  "orig_nbformat": 4
 },
 "nbformat": 4,
 "nbformat_minor": 2
}
