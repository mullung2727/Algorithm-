{
 "cells": [
  {
   "cell_type": "markdown",
   "metadata": {},
   "source": [
    "```\n",
    "5 17\n",
    "4                              6                            10\n",
    "3          8                   7             12             9       11       20\n",
    "2   6      7    9     16       8    14       11    13    24 8    18 10    22 19 \n",
    "1 4 5 7 12 6 14 10 18 15 17 32 9 16 13 15 28 10 22 14 26 23 7 16 17 9  20 21 18\n",
    "````"
   ]
  },
  {
   "cell_type": "code",
   "execution_count": 40,
   "metadata": {},
   "outputs": [],
   "source": [
    "n,k = map(int,input().split())\n"
   ]
  },
  {
   "cell_type": "code",
   "execution_count": 3,
   "metadata": {},
   "outputs": [],
   "source": [
    "q = [[n]]\n",
    "cnt = 0\n",
    "num = 0\n",
    "flag = True\n",
    "\n",
    "while flag:\n",
    "    x = q.pop()\n",
    "    tmp_ls = []\n",
    "    cnt+=1\n",
    "    for i in x:\n",
    "        if i==k:\n",
    "            flag = False\n",
    "            num += 1\n",
    "        if i > 0:\n",
    "            tmp_ls.append(i-1)\n",
    "        if i < k:\n",
    "            tmp_ls.append(i+1)\n",
    "            tmp_ls.append(i*2)\n",
    "    q.append(tmp_ls) "
   ]
  },
  {
   "cell_type": "code",
   "execution_count": 4,
   "metadata": {},
   "outputs": [
    {
     "data": {
      "text/plain": [
       "5"
      ]
     },
     "execution_count": 4,
     "metadata": {},
     "output_type": "execute_result"
    }
   ],
   "source": [
    "cnt"
   ]
  },
  {
   "cell_type": "code",
   "execution_count": 5,
   "metadata": {},
   "outputs": [
    {
     "data": {
      "text/plain": [
       "2"
      ]
     },
     "execution_count": 5,
     "metadata": {},
     "output_type": "execute_result"
    }
   ],
   "source": [
    "num"
   ]
  },
  {
   "cell_type": "code",
   "execution_count": 80,
   "metadata": {},
   "outputs": [
    {
     "name": "stdout",
     "output_type": "stream",
     "text": [
      "21\n",
      "4\n"
     ]
    }
   ],
   "source": [
    "n, k = 1, 100000\n",
    "q = [n]\n",
    "cnt = -1\n",
    "num = 0\n",
    "\n",
    "def next_step(x):\n",
    "    global flag, num\n",
    "    aaa = []\n",
    "    if x == k:\n",
    "        flag = False\n",
    "        num +=1\n",
    "        return []\n",
    "\n",
    "    if x >= 1:\n",
    "        c = x-1\n",
    "        if not_visited[c]:\n",
    "            q.append(c)\n",
    "            aaa.append(c)\n",
    "    if x < k:\n",
    "        c = x+1\n",
    "        if not_visited[c] and x > 1:\n",
    "            q.append(c)\n",
    "            aaa.append(c)\n",
    "        c = x*2\n",
    "        if x*2 <= 100000 and not_visited[c]:\n",
    "            q.append(c)\n",
    "            aaa.append(c)\n",
    "\n",
    "    return aaa\n",
    "\n",
    "flag = True\n",
    "not_visited = [True for _ in range(100001)]\n",
    "while flag:\n",
    "    cnt+=1\n",
    "    # print(q)\n",
    "    length = len(q)\n",
    "    \n",
    "    ad_visited = []\n",
    "    for _ in range(length):\n",
    "        x = q.pop(0)\n",
    "        ad_visited += next_step(x)\n",
    "    for i in ad_visited:\n",
    "        not_visited[i] = False\n",
    "        \n",
    "print(cnt)\n",
    "print(num)"
   ]
  },
  {
   "cell_type": "code",
   "execution_count": 15,
   "metadata": {},
   "outputs": [
    {
     "data": {
      "text/plain": [
       "1"
      ]
     },
     "execution_count": 15,
     "metadata": {},
     "output_type": "execute_result"
    }
   ],
   "source": [
    "17%2"
   ]
  },
  {
   "cell_type": "code",
   "execution_count": 39,
   "metadata": {},
   "outputs": [
    {
     "name": "stdout",
     "output_type": "stream",
     "text": [
      "4 3 2\n"
     ]
    }
   ],
   "source": [
    "n, k = 5, 17\n",
    "if n < k:\n",
    "    cnt = -1\n",
    "    way = 1\n",
    "    while k > n:\n",
    "        if k % 2: \n",
    "            cnt+=2\n",
    "            way += 1\n",
    "        else:\n",
    "            cnt+=1\n",
    "        k //= 2\n",
    "    if k * 2 - n > n - k:\n",
    "        cnt += (n-k)\n",
    "    else:\n",
    "        cnt += (2*k-n)\n",
    "\n",
    "else:\n",
    "    cnt = n-k\n",
    "    way = 1\n",
    "print(k,cnt,way)"
   ]
  },
  {
   "cell_type": "code",
   "execution_count": 22,
   "metadata": {},
   "outputs": [
    {
     "data": {
      "text/plain": [
       "3"
      ]
     },
     "execution_count": 22,
     "metadata": {},
     "output_type": "execute_result"
    }
   ],
   "source": [
    "cnt"
   ]
  },
  {
   "cell_type": "code",
   "execution_count": 20,
   "metadata": {},
   "outputs": [
    {
     "data": {
      "text/plain": [
       "8"
      ]
     },
     "execution_count": 20,
     "metadata": {},
     "output_type": "execute_result"
    }
   ],
   "source": [
    "g"
   ]
  },
  {
   "cell_type": "code",
   "execution_count": null,
   "metadata": {},
   "outputs": [],
   "source": []
  }
 ],
 "metadata": {
  "interpreter": {
   "hash": "73b15312f6d0a3a4f81bb1fef5fd302c9d36df752431494f77e2d8fbed378edf"
  },
  "kernelspec": {
   "display_name": "Python 3.8.11 64-bit ('ds_study': conda)",
   "name": "python3"
  },
  "language_info": {
   "codemirror_mode": {
    "name": "ipython",
    "version": 3
   },
   "file_extension": ".py",
   "mimetype": "text/x-python",
   "name": "python",
   "nbconvert_exporter": "python",
   "pygments_lexer": "ipython3",
   "version": "3.8.11"
  }
 },
 "nbformat": 4,
 "nbformat_minor": 2
}
