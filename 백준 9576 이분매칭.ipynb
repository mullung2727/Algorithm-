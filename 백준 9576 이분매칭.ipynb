{
 "cells": [
  {
   "cell_type": "markdown",
   "metadata": {},
   "source": [
    "https://www.acmicpc.net/problem/9576"
   ]
  },
  {
   "cell_type": "code",
   "execution_count": 8,
   "metadata": {},
   "outputs": [
    {
     "name": "stdout",
     "output_type": "stream",
     "text": [
      "5\n"
     ]
    }
   ],
   "source": [
    "import sys\n",
    "\n",
    "sys.stdin = open('input.txt')\n",
    "input = sys.stdin.readline \n",
    "case_n = int(input())\n",
    "result = []\n",
    "\n",
    "def find_empty(owner):\n",
    "    wish2 = [ k for k in range(ab_ls[owner][0],ab_ls[owner][1]) ]\n",
    "    for i in wish2:\n",
    "        if empty_ls[i] == -1: #비어 있는 경우\n",
    "            empty_ls[i] = owner\n",
    "            return True\n",
    "        else:\n",
    "            continue\n",
    "    return False\n",
    "    \n",
    "for i in range(case_n):\n",
    "    n, m = map(int, input().split()) # n: 책의 개수, m: 학생 수\n",
    "    ab_ls = []\n",
    "    empty_ls = [-1 for i in range(n)]\n",
    "    cnt = 0\n",
    "\n",
    "    for i in range(m):\n",
    "        a, b = map(int,input().split())\n",
    "        ab_ls.append((a-1,b))\n",
    "    ab_ls.sort(key=lambda x: x[1])\n",
    "    for i in range(len(ab_ls)):\n",
    "        wish = [ k for k in range(ab_ls[i][0],ab_ls[i][1]) ]\n",
    "\n",
    "        for j in wish:\n",
    "            if empty_ls[j] == -1: #비어 있는 경우\n",
    "                empty_ls[j] = i\n",
    "                cnt+=1\n",
    "                break\n",
    "            else:\n",
    "                owner = empty_ls[j]\n",
    "                if find_empty(owner):\n",
    "                    empty_ls[j] = i\n",
    "                    cnt+=1\n",
    "                    break\n",
    "                else:\n",
    "                    continue\n",
    "    result.append(cnt)\n",
    "\n",
    "for i in result:\n",
    "    print(i)\n"
   ]
  },
  {
   "cell_type": "code",
   "execution_count": null,
   "metadata": {},
   "outputs": [],
   "source": []
  }
 ],
 "metadata": {
  "interpreter": {
   "hash": "73b15312f6d0a3a4f81bb1fef5fd302c9d36df752431494f77e2d8fbed378edf"
  },
  "kernelspec": {
   "display_name": "Python 3.8.11 64-bit ('ds_study': conda)",
   "name": "python3"
  },
  "language_info": {
   "codemirror_mode": {
    "name": "ipython",
    "version": 3
   },
   "file_extension": ".py",
   "mimetype": "text/x-python",
   "name": "python",
   "nbconvert_exporter": "python",
   "pygments_lexer": "ipython3",
   "version": "3.8.11"
  },
  "orig_nbformat": 4
 },
 "nbformat": 4,
 "nbformat_minor": 2
}
